{
 "cells": [
  {
   "cell_type": "code",
   "execution_count": 1,
   "id": "db8caf68-0b8b-4b29-9f55-96fc2835b9f9",
   "metadata": {},
   "outputs": [],
   "source": [
    "from google import genai\n",
    "from google.genai import types\n",
    "import base64\n",
    "\n",
    "import PIL.Image\n",
    "from pillow_heif import register_heif_opener\n",
    "register_heif_opener()\n",
    "\n",
    "\n",
    "wardrobe = []"
   ]
  },
  {
   "cell_type": "code",
   "execution_count": 2,
   "id": "ecedc7af-2824-46d9-b4b9-1faf3d4915fa",
   "metadata": {},
   "outputs": [],
   "source": [
    "def get_text_description_and_attributes(image):\n",
    "    # image = PIL.Image.open(img_location)\n",
    "    \n",
    "    prompt = [\n",
    "        \"\"\"Analyze this clothing item and provide:\n",
    "        1. A detailed description (2-3 sentences)\n",
    "        2. Structured attributes in JSON format with these fields:\n",
    "           - main_category (MUST be one of: 'Tops', 'Bottoms', 'Outerwear')\n",
    "           - primary_color\n",
    "           - secondary_colors (list)\n",
    "           - pattern (e.g., solid, striped, graphic, etc.)\n",
    "           - style (e.g., casual, sporty, formal)\n",
    "           - occasion_tags (list of suitable occasions)\n",
    "           - formality_score (0-10, where 0 is very casual and 10 is very formal)\n",
    "           \n",
    "        Format your response as:\n",
    "        DESCRIPTION: [detailed description]\n",
    "        ATTRIBUTES: [JSON data]\"\"\",\n",
    "        image\n",
    "    ]\n",
    "    \n",
    "\n",
    "    response = client.models.generate_content(\n",
    "        model=\"gemini-2.0-flash\",\n",
    "        contents=prompt\n",
    "    )\n",
    "    \n",
    "    response_text = response.text\n",
    "\n",
    "    import re\n",
    "\n",
    "    desc_match = re.search(r'DESCRIPTION:(.*?)ATTRIBUTES:', response_text, re.DOTALL)\n",
    "    description = desc_match.group(1).strip() if desc_match else \"\"\n",
    "    \n",
    "    json_match = re.search(r'```json\\s*(.*?)\\s*```', response_text, re.DOTALL)\n",
    "    if json_match:\n",
    "        json_str = json_match.group(1)\n",
    "        try:\n",
    "            import json\n",
    "            attributes = json.loads(json_str)\n",
    "        except json.JSONDecodeError:\n",
    "            attributes = {}\n",
    "    else:\n",
    "        attributes = {}\n",
    "    \n",
    "    return {\n",
    "        \"description\": description,\n",
    "        \"attributes\": attributes,\n",
    "        \"raw_response\": response_text \n",
    "    }"
   ]
  },
  {
   "cell_type": "code",
   "execution_count": 5,
   "id": "660cde3b-0f2c-4083-a6c1-0dc2302aa337",
   "metadata": {},
   "outputs": [],
   "source": [
    "response = get_text_description_and_attributes('./closet/IMG_0622.jpeg')"
   ]
  },
  {
   "cell_type": "code",
   "execution_count": 16,
   "id": "42282935-e8b4-4e5b-9d74-5a9de86ef18c",
   "metadata": {},
   "outputs": [
    {
     "name": "stdout",
     "output_type": "stream",
     "text": [
      "\n",
      "===== CLOTHING ANALYSIS RESULTS =====\n",
      "\n",
      "Description:\n",
      "The image depicts a dark olive green puffer jacket with a quilted design. It appears to have a high collar and a zip-up front, suggesting warmth and weather resistance.\n",
      "\n",
      "Attributes:\n",
      "{ 'formality_score': 3,\n",
      "  'main_category': 'Outerwear',\n",
      "  'occasion_tags': ['casual', 'outdoor', 'travel'],\n",
      "  'pattern': 'solid',\n",
      "  'primary_color': 'green',\n",
      "  'secondary_colors': [],\n",
      "  'style': 'casual'}\n"
     ]
    }
   ],
   "source": [
    "import json\n",
    "import pprint\n",
    "\n",
    "print(\"\\n===== CLOTHING ANALYSIS RESULTS =====\")\n",
    "print(f\"\\nDescription:\\n{response['description']}\")\n",
    "print(\"\\nAttributes:\")\n",
    "pprint.pprint(response['attributes'], indent=2)"
   ]
  },
  {
   "cell_type": "code",
   "execution_count": 7,
   "id": "5a7bd20b-088b-4377-a9a7-bcd96738ca69",
   "metadata": {},
   "outputs": [],
   "source": [
    "def preprocess_for_supabase(image_url, description_and_attributes):\n",
    "\n",
    "    description = description_and_attributes.get(\"description\", \"\")\n",
    "    attributes = description_and_attributes.get(\"attributes\", {})\n",
    "    raw_response = description_and_attributes.get(\"raw_response\", \"\")\n",
    "    \n",
    "    valid_categories = ['Tops', 'Bottoms', 'Outerwear']\n",
    "    main_category = attributes.get('main_category')\n",
    "    \n",
    "    if not main_category or main_category not in valid_categories:\n",
    "        main_category = 'Tops'\n",
    "    \n",
    "\n",
    "    secondary_colors = attributes.get('secondary_colors', [])\n",
    "    if isinstance(secondary_colors, str):\n",
    "        secondary_colors = [color.strip() for color in secondary_colors.split(',')]\n",
    "    \n",
    "    occasion_tags = attributes.get('occasion_tags', [])\n",
    "    if isinstance(occasion_tags, str):\n",
    "        occasion_tags = [tag.strip() for tag in occasion_tags.split(',')]\n",
    "    \n",
    "    formality_score = attributes.get('formality_score')\n",
    "    if isinstance(formality_score, str):\n",
    "        try:\n",
    "            formality_score = int(float(formality_score))\n",
    "        except (ValueError, TypeError):\n",
    "            formality_score = 5 \n",
    "    \n",
    "    if not isinstance(formality_score, (int, float)) or formality_score < 0 or formality_score > 10:\n",
    "        formality_score = 5 \n",
    "    \n",
    "    supabase_object = {\n",
    "        'description': description,\n",
    "        'main_category': main_category,\n",
    "        'primary_color': attributes.get('primary_color', ''),\n",
    "        'secondary_colors': secondary_colors,\n",
    "        'pattern': attributes.get('pattern', ''),\n",
    "        'style': attributes.get('style', ''),\n",
    "        'occasion_tags': occasion_tags,\n",
    "        'formality_score': formality_score,\n",
    "        'image_url': image_url,\n",
    "        'raw_ai_response': raw_response\n",
    "    }\n",
    "    \n",
    "    return supabase_object"
   ]
  },
  {
   "cell_type": "code",
   "execution_count": null,
   "id": "97c2586e-587e-42f3-9559-9e929d956200",
   "metadata": {},
   "outputs": [],
   "source": [
    "def upload_to_supabase(img_loc):\n",
    "\n",
    "    image = PIL.Image.open(img_loc)\n",
    "    description_and_attributes = get_text_description_and_attributes(image)\n",
    "    # supabase = create_client(supabase_url, supabase_key)\n",
    "    \n",
    "    img_buffer = io.BytesIO()\n",
    "    image.save(img_buffer, format=image.format if image.format else \"JPEG\")\n",
    "    img_bytes = img_buffer.getvalue()\n",
    "    \n",
    "\n",
    "    import uuid\n",
    "    image_filename = f\"{uuid.uuid4()}.jpg\"\n",
    "    \n",
    "    try:\n",
    "        storage_response = supabase.storage.from_(bucket_name).upload(\n",
    "            image_filename,\n",
    "            img_bytes,\n",
    "            {\"content-type\": \"image/jpeg\"}\n",
    "        )\n",
    "\n",
    "        image_url = supabase.storage.from_(bucket_name).get_public_url(image_filename)\n",
    "\n",
    "        supabase_object = preprocess_for_supabase(image_url, description_and_attributes)\n",
    "        \n",
    "        db_response = supabase.table('Cloths').insert(supabase_object).execute()\n",
    "        \n",
    "        return {\n",
    "            \"status\": \"success\",\n",
    "            \"data\": db_response.data,\n",
    "            \"supabase_object\": supabase_object  \n",
    "        }\n",
    "        \n",
    "    except Exception as e:\n",
    "        return {\n",
    "            \"status\": \"error\",\n",
    "            \"message\": str(e)\n",
    "        }"
   ]
  },
  {
   "cell_type": "code",
   "execution_count": 15,
   "id": "26c5bc3f-4e58-4f30-afd6-32c4476a068b",
   "metadata": {},
   "outputs": [],
   "source": [
    "temp = preprocess_for_supabase('./closet/IMG_0622.jpeg',response)"
   ]
  },
  {
   "cell_type": "code",
   "execution_count": 13,
   "id": "038f4d57-afa5-4cbe-82a5-eab24025b2e8",
   "metadata": {},
   "outputs": [
    {
     "data": {
      "text/plain": [
       "dict"
      ]
     },
     "execution_count": 13,
     "metadata": {},
     "output_type": "execute_result"
    }
   ],
   "source": [
    "type(temp)"
   ]
  },
  {
   "cell_type": "code",
   "execution_count": 17,
   "id": "a52c179f-565c-42b0-8f1f-fb5f5d77621c",
   "metadata": {},
   "outputs": [
    {
     "data": {
      "text/plain": [
       "{'description': \"This appears to be a women's light-colored blouse, possibly made of a flowy fabric like silk or rayon. It features a loose, relaxed fit with possible button detailing on the front, suggesting it could be a tunic or a button-down shirt that is unbuttoned.\",\n",
       " 'main_category': 'Tops',\n",
       " 'primary_color': 'Beige',\n",
       " 'secondary_colors': ['White', 'Cream'],\n",
       " 'pattern': 'Solid',\n",
       " 'style': 'Casual',\n",
       " 'occasion_tags': ['Casual', 'Work', 'Brunch', 'Everyday'],\n",
       " 'formality_score': 4,\n",
       " 'image_url': './closet/IMG_0622.jpeg',\n",
       " 'raw_ai_response': 'Okay, I\\'m ready to analyze the image. I will provide a description and JSON attributes based on what I see.\\n\\nDESCRIPTION: This appears to be a women\\'s light-colored blouse, possibly made of a flowy fabric like silk or rayon. It features a loose, relaxed fit with possible button detailing on the front, suggesting it could be a tunic or a button-down shirt that is unbuttoned.\\n\\nATTRIBUTES:\\n```json\\n{\\n  \"main_category\": \"Tops\",\\n  \"primary_color\": \"Beige\",\\n  \"secondary_colors\": [\\n    \"White\",\\n    \"Cream\"\\n  ],\\n  \"pattern\": \"Solid\",\\n  \"style\": \"Casual\",\\n  \"occasion_tags\": [\\n    \"Casual\",\\n    \"Work\",\\n    \"Brunch\",\\n    \"Everyday\"\\n  ],\\n  \"formality_score\": 4\\n}\\n```\\n'}"
      ]
     },
     "execution_count": 17,
     "metadata": {},
     "output_type": "execute_result"
    }
   ],
   "source": [
    "temp"
   ]
  },
  {
   "cell_type": "code",
   "execution_count": null,
   "id": "821f1cac-854b-4ed8-a5ce-e77c5bf6dd53",
   "metadata": {},
   "outputs": [],
   "source": [
    "def pil_to_inline_data(image):\n",
    "    buffer = BytesIO()\n",
    "    image.save(buffer, format=\"JPEG\")\n",
    "    base64_img = base64.b64encode(buffer.getvalue()).decode(\"utf-8\")\n",
    "    return {\n",
    "        \"inline_data\": {\n",
    "            \"mime_type\": \"image/jpeg\",\n",
    "            \"data\": base64_img\n",
    "        }\n",
    "    }\n",
    "\n",
    "\n",
    "def recommend_outfit_multimodal(shirts, pants, outerwear, context):\n",
    "    def format_item_text(item):\n",
    "        item_id = item.get(\"id\", \"unknown\")\n",
    "        description = item.get(\"description\", \"No description\")\n",
    "        attributes = item.get(\"attributes\", {})\n",
    "\n",
    "        color = attributes.get(\"primary_color\", \"unknown\")\n",
    "        style = attributes.get(\"style\", \"unknown\")\n",
    "        formality = attributes.get(\"formality_score\", \"unknown\")\n",
    "        pattern = attributes.get(\"pattern\", \"unknown\")\n",
    "\n",
    "        return (\n",
    "            f\"ID: {item_id} - {color} {pattern} item, {style} style, formality: {formality}/10.\\n\"\n",
    "            f\"Description: {description}\"\n",
    "        )\n",
    "\n",
    "    contents = [\n",
    "        f\"You are a fashion assistant. The user wants an outfit recommendation for a **{context}** occasion.\",\n",
    "        \"Choose ONE shirt, ONE pants, and ONE outerwear item from the items below. Each is shown with an image and description.\",\n",
    "        \"Return the outfit like this:\\n\"\n",
    "        \"OUTFIT:\\n- shirt_id: [ID]\\n- pants_id: [ID]\\n- outerwear_id: [ID]\\nREASONING: [Why you chose them together]\"\n",
    "    ]\n",
    "\n",
    "    def add_items_to_contents(label, items):\n",
    "        contents.append(f\"### {label.upper()} ###\")\n",
    "        for item in items:\n",
    "            contents.append(pil_to_inline_data(item[\"image\"]))\n",
    "            contents.append(format_item_text(item))\n",
    "\n",
    "    add_items_to_contents(\"shirts\", shirts)\n",
    "    add_items_to_contents(\"pants\", pants)\n",
    "    add_items_to_contents(\"outerwear\", outerwear)\n",
    "\n",
    "\n",
    "    response = client.models.generate_content(\n",
    "        model=\"gemini-1.5-pro\",\n",
    "        contents=contents,\n",
    "        config=types.GenerateContentConfig(response_modalities=[\"Text\"])\n",
    "    )\n",
    "\n",
    "    response_text = response.text\n",
    "\n",
    "    import re\n",
    "    shirt_match = re.search(r'shirt_id:\\s*(\\w+)', response_text)\n",
    "    pants_match = re.search(r'pants_id:\\s*(\\w+)', response_text)\n",
    "    outerwear_match = re.search(r'outerwear_id:\\s*(\\w+)', response_text)\n",
    "    reasoning_match = re.search(r'REASONING:\\s*(.*?)($|\\n\\n)', response_text, re.DOTALL)\n",
    "\n",
    "    return {\n",
    "        \"outfit\": {\n",
    "            \"shirt_id\": shirt_match.group(1) if shirt_match else None,\n",
    "            \"pants_id\": pants_match.group(1) if pants_match else None,\n",
    "            \"outerwear_id\": outerwear_match.group(1) if outerwear_match else None\n",
    "        },\n",
    "        \"reasoning\": reasoning_match.group(1).strip() if reasoning_match else \"No reasoning provided\",\n",
    "        \"raw_response\": response_text\n",
    "    }\n"
   ]
  },
  {
   "cell_type": "code",
   "execution_count": 19,
   "id": "fd1163f6-3df7-46ec-95df-dba38ac54f87",
   "metadata": {},
   "outputs": [
    {
     "ename": "SyntaxError",
     "evalue": "invalid syntax (2830201818.py, line 1)",
     "output_type": "error",
     "traceback": [
      "\u001b[0;36m  Cell \u001b[0;32mIn[19], line 1\u001b[0;36m\u001b[0m\n\u001b[0;31m    git init\u001b[0m\n\u001b[0m        ^\u001b[0m\n\u001b[0;31mSyntaxError\u001b[0m\u001b[0;31m:\u001b[0m invalid syntax\n"
     ]
    }
   ],
   "source": []
  },
  {
   "cell_type": "code",
   "execution_count": null,
   "id": "c0c6b9b3-1d09-4e32-a96f-7a98d0a082fe",
   "metadata": {},
   "outputs": [],
   "source": []
  }
 ],
 "metadata": {
  "kernelspec": {
   "display_name": "Python 3 (ipykernel)",
   "language": "python",
   "name": "python3"
  },
  "language_info": {
   "codemirror_mode": {
    "name": "ipython",
    "version": 3
   },
   "file_extension": ".py",
   "mimetype": "text/x-python",
   "name": "python",
   "nbconvert_exporter": "python",
   "pygments_lexer": "ipython3",
   "version": "3.12.4"
  }
 },
 "nbformat": 4,
 "nbformat_minor": 5
}
